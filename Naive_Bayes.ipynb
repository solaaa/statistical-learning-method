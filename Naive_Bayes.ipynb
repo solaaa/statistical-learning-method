{
 "cells": [
  {
   "cell_type": "code",
   "execution_count": 1,
   "metadata": {},
   "outputs": [],
   "source": [
    "import numpy as np\n",
    "import matplotlib.pyplot as plt\n",
    "%matplotlib inline"
   ]
  },
  {
   "cell_type": "code",
   "execution_count": 2,
   "metadata": {},
   "outputs": [],
   "source": [
    "# data generation\n",
    "X = np.array([\n",
    "    [1,1],[1,2],[1,2],[1,1],[1,1],\n",
    "    [2,1],[2,2],[2,2],[2,3],[2,3],\n",
    "    [3,3],[3,2],[3,2],[3,3],[3,3]\n",
    "])\n",
    "# the number of features\n",
    "feature_num = len(X[0])\n",
    "# value of each feature \n",
    "feature_set = np.array([\n",
    "    [1,2,3], [1,2,3]\n",
    "])\n",
    "\n",
    "Y = np.array([0,0,0,0,0,0,0,1,1,1,1,1,1,1,0])"
   ]
  },
  {
   "cell_type": "code",
   "execution_count": 3,
   "metadata": {},
   "outputs": [
    {
     "name": "stdout",
     "output_type": "stream",
     "text": [
      "[ 0.06562956  0.01882353]\n",
      "0\n"
     ]
    }
   ],
   "source": [
    "# implement\n",
    "x_val = [2,1]\n",
    "post_pro = np.array([0.]*len(set(Y)))\n",
    "for k in range(len(post_pro)):\n",
    "    # step 1: compute pre-probability\n",
    "    cnt1 = 0\n",
    "    for i in Y:\n",
    "        if i == k:\n",
    "            cnt1 += 1\n",
    "    pre_pro = (cnt1 + 1)/(len(Y) + len(set(Y)))\n",
    "    # step 2: compute conditional probability\n",
    "    condi_pro = 1\n",
    "    for i in range(feature_num):\n",
    "        cnt2 = 0\n",
    "        for j in range(len(X)):\n",
    "            if X[j][i] == x_val[i] and Y[j] == k:\n",
    "                cnt2 += 1\n",
    "        condi_pro = condi_pro * ((cnt2+1)/(cnt1+len(feature_set[i])))\n",
    "\n",
    "    # step 3\n",
    "    post_pro[k] = pre_pro * condi_pro\n",
    "\n",
    "y_hat = np.argmax(post_pro)\n",
    "print(post_pro)\n",
    "print(y_hat)"
   ]
  },
  {
   "cell_type": "code",
   "execution_count": null,
   "metadata": {},
   "outputs": [],
   "source": []
  }
 ],
 "metadata": {
  "kernelspec": {
   "display_name": "Python 3",
   "language": "python",
   "name": "python3"
  },
  "language_info": {
   "codemirror_mode": {
    "name": "ipython",
    "version": 3
   },
   "file_extension": ".py",
   "mimetype": "text/x-python",
   "name": "python",
   "nbconvert_exporter": "python",
   "pygments_lexer": "ipython3",
   "version": "3.5.3"
  }
 },
 "nbformat": 4,
 "nbformat_minor": 2
}
