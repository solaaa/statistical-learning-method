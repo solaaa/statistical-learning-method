{
 "cells": [
  {
   "cell_type": "code",
   "execution_count": 1,
   "metadata": {},
   "outputs": [],
   "source": [
    "import numpy as np\n",
    "import tensorflow as tf\n",
    "import matplotlib.pylab as plt\n",
    "%matplotlib inline\n",
    "from sklearn.model_selection import train_test_split"
   ]
  },
  {
   "cell_type": "code",
   "execution_count": 2,
   "metadata": {},
   "outputs": [
    {
     "name": "stdout",
     "output_type": "stream",
     "text": [
      "(7500, 3) (7500, 2)\n"
     ]
    }
   ],
   "source": [
    "data = np.load('./data.npy')\n",
    "label = np.load('./label.npy')\n",
    "print(label.shape, data.shape)"
   ]
  },
  {
   "cell_type": "code",
   "execution_count": 3,
   "metadata": {},
   "outputs": [],
   "source": [
    "x_train, x_val, y_train, y_val = train_test_split(data, label,\n",
    "                                                  test_size = 0.3, random_state = 1)"
   ]
  },
  {
   "cell_type": "code",
   "execution_count": 4,
   "metadata": {},
   "outputs": [
    {
     "name": "stdout",
     "output_type": "stream",
     "text": [
      "[[-2.11046974  1.26682769]\n",
      " [-0.14029491 -1.6246758 ]\n",
      " [-0.23036896  2.47230988]\n",
      " [ 0.12715568  1.7900359 ]\n",
      " [ 0.00855322  2.44490269]]\n",
      "[[ 1.  0.  0.]\n",
      " [ 0.  1.  0.]\n",
      " [ 0.  0.  1.]\n",
      " [ 0.  0.  1.]\n",
      " [ 0.  0.  1.]]\n"
     ]
    }
   ],
   "source": [
    "feature_num = len(x_train[0])\n",
    "sample_num = len(x_train)\n",
    "print(x_train[:5])\n",
    "print(y_train[:5])"
   ]
  },
  {
   "cell_type": "code",
   "execution_count": 5,
   "metadata": {},
   "outputs": [],
   "source": [
    "x = tf.placeholder(tf.float32)\n",
    "y = tf.placeholder(tf.float32)\n",
    "w = np.random.randn(feature_num, len(y_train[0]))\n",
    "w = tf.Variable(w, dtype=tf.float32)\n",
    "b = np.random.randn(1, len(y_train[0]))\n",
    "b = tf.Variable(b, dtype=tf.float32)"
   ]
  },
  {
   "cell_type": "code",
   "execution_count": 6,
   "metadata": {},
   "outputs": [],
   "source": [
    "\n",
    "def softmax(z):\n",
    "    z = tf.exp(z)\n",
    "    summ = tf.reduce_sum(z, axis=1)\n",
    "    summ = tf.reshape(summ, shape=[-1, 1])\n",
    "    return z/summ\n",
    "y_pred = tf.matmul(x, w) + b\n",
    "y_pred = softmax(y_pred)"
   ]
  },
  {
   "cell_type": "code",
   "execution_count": 7,
   "metadata": {},
   "outputs": [],
   "source": [
    "def softmax_cross_entropy(y_pred, y):\n",
    "    return tf.reduce_mean(-tf.reduce_sum(tf.log(y_pred) * y, axis=1), axis=0)\n",
    "loss = softmax_cross_entropy(y_pred, y)\n",
    "# loss = tf.reduce_mean(tf.nn.softmax_cross_entropy_with_logits(labels=y, logits=y_pred))"
   ]
  },
  {
   "cell_type": "code",
   "execution_count": 8,
   "metadata": {},
   "outputs": [],
   "source": [
    "learning_rate = 0.01\n",
    "optimizer = tf.train.GradientDescentOptimizer(learning_rate)\n",
    "fit = optimizer.minimize(loss)"
   ]
  },
  {
   "cell_type": "code",
   "execution_count": 9,
   "metadata": {},
   "outputs": [],
   "source": [
    "init = tf.global_variables_initializer()\n",
    "gpu_options = tf.GPUOptions(per_process_gpu_memory_fraction=0.3)\n",
    "sess = tf.Session(config=tf.ConfigProto(gpu_options=gpu_options))\n",
    "# sess = tf.Session()\n",
    "sess.run(init)"
   ]
  },
  {
   "cell_type": "code",
   "execution_count": 10,
   "metadata": {},
   "outputs": [
    {
     "name": "stdout",
     "output_type": "stream",
     "text": [
      "--- epoch: 1, loss: 1.392620, val_loss: 1.279668, val_acc: 0.324000 ---\n",
      "--- epoch: 11, loss: 0.365717, val_loss: 0.358247, val_acc: 0.940444 ---\n",
      "--- epoch: 21, loss: 0.223170, val_loss: 0.220819, val_acc: 0.982222 ---\n",
      "--- epoch: 31, loss: 0.168147, val_loss: 0.166994, val_acc: 0.987556 ---\n",
      "--- epoch: 41, loss: 0.137834, val_loss: 0.137285, val_acc: 0.989333 ---\n",
      "--- epoch: 51, loss: 0.118310, val_loss: 0.118148, val_acc: 0.991111 ---\n",
      "--- epoch: 61, loss: 0.104559, val_loss: 0.104674, val_acc: 0.992444 ---\n",
      "--- epoch: 71, loss: 0.094290, val_loss: 0.094618, val_acc: 0.993333 ---\n",
      "--- epoch: 81, loss: 0.086295, val_loss: 0.086795, val_acc: 0.993333 ---\n",
      "--- epoch: 91, loss: 0.079874, val_loss: 0.080516, val_acc: 0.993333 ---\n",
      "--- epoch: 101, loss: 0.074589, val_loss: 0.075354, val_acc: 0.993778 ---\n",
      "--- epoch: 111, loss: 0.070153, val_loss: 0.071026, val_acc: 0.993778 ---\n",
      "--- epoch: 121, loss: 0.066372, val_loss: 0.067339, val_acc: 0.994667 ---\n",
      "--- epoch: 131, loss: 0.063104, val_loss: 0.064157, val_acc: 0.994667 ---\n",
      "--- epoch: 141, loss: 0.060248, val_loss: 0.061379, val_acc: 0.994667 ---\n",
      "--- epoch: 151, loss: 0.057728, val_loss: 0.058930, val_acc: 0.994667 ---\n",
      "--- epoch: 161, loss: 0.055486, val_loss: 0.056753, val_acc: 0.994667 ---\n",
      "--- epoch: 171, loss: 0.053475, val_loss: 0.054804, val_acc: 0.994667 ---\n",
      "--- epoch: 181, loss: 0.051662, val_loss: 0.053047, val_acc: 0.994667 ---\n",
      "--- epoch: 191, loss: 0.050015, val_loss: 0.051454, val_acc: 0.994667 ---\n",
      "--- epoch: 201, loss: 0.048514, val_loss: 0.050003, val_acc: 0.994667 ---\n",
      "--- epoch: 211, loss: 0.047137, val_loss: 0.048674, val_acc: 0.994667 ---\n",
      "--- epoch: 221, loss: 0.045871, val_loss: 0.047452, val_acc: 0.994667 ---\n",
      "--- epoch: 231, loss: 0.044700, val_loss: 0.046325, val_acc: 0.994667 ---\n",
      "--- epoch: 241, loss: 0.043615, val_loss: 0.045281, val_acc: 0.994667 ---\n",
      "--- epoch: 251, loss: 0.042606, val_loss: 0.044311, val_acc: 0.994222 ---\n",
      "--- epoch: 261, loss: 0.041664, val_loss: 0.043407, val_acc: 0.994222 ---\n",
      "--- epoch: 271, loss: 0.040784, val_loss: 0.042562, val_acc: 0.994222 ---\n",
      "--- epoch: 281, loss: 0.039958, val_loss: 0.041771, val_acc: 0.994222 ---\n",
      "--- epoch: 291, loss: 0.039181, val_loss: 0.041028, val_acc: 0.994222 ---\n",
      "--- epoch: 301, loss: 0.038450, val_loss: 0.040329, val_acc: 0.994222 ---\n",
      "--- epoch: 311, loss: 0.037759, val_loss: 0.039669, val_acc: 0.994222 ---\n",
      "--- epoch: 321, loss: 0.037106, val_loss: 0.039047, val_acc: 0.994222 ---\n",
      "--- epoch: 331, loss: 0.036488, val_loss: 0.038457, val_acc: 0.994222 ---\n",
      "--- epoch: 341, loss: 0.035900, val_loss: 0.037898, val_acc: 0.994222 ---\n",
      "--- epoch: 351, loss: 0.035342, val_loss: 0.037367, val_acc: 0.994667 ---\n",
      "--- epoch: 361, loss: 0.034811, val_loss: 0.036863, val_acc: 0.994667 ---\n",
      "--- epoch: 371, loss: 0.034304, val_loss: 0.036382, val_acc: 0.995111 ---\n",
      "--- epoch: 381, loss: 0.033821, val_loss: 0.035924, val_acc: 0.995111 ---\n",
      "--- epoch: 391, loss: 0.033359, val_loss: 0.035486, val_acc: 0.995111 ---\n",
      "--- epoch: 401, loss: 0.032916, val_loss: 0.035068, val_acc: 0.995556 ---\n",
      "--- epoch: 411, loss: 0.032493, val_loss: 0.034668, val_acc: 0.996000 ---\n",
      "--- epoch: 421, loss: 0.032086, val_loss: 0.034284, val_acc: 0.996000 ---\n",
      "--- epoch: 431, loss: 0.031696, val_loss: 0.033917, val_acc: 0.996444 ---\n",
      "--- epoch: 441, loss: 0.031321, val_loss: 0.033564, val_acc: 0.996444 ---\n",
      "--- epoch: 451, loss: 0.030961, val_loss: 0.033224, val_acc: 0.996444 ---\n",
      "--- epoch: 461, loss: 0.030614, val_loss: 0.032898, val_acc: 0.996444 ---\n",
      "--- epoch: 471, loss: 0.030279, val_loss: 0.032584, val_acc: 0.996444 ---\n",
      "--- epoch: 481, loss: 0.029957, val_loss: 0.032282, val_acc: 0.996444 ---\n",
      "--- epoch: 491, loss: 0.029645, val_loss: 0.031990, val_acc: 0.996444 ---\n",
      "--- epoch: 501, loss: 0.029345, val_loss: 0.031709, val_acc: 0.996444 ---\n",
      "--- epoch: 511, loss: 0.029054, val_loss: 0.031437, val_acc: 0.996444 ---\n",
      "--- epoch: 521, loss: 0.028773, val_loss: 0.031175, val_acc: 0.996444 ---\n",
      "--- epoch: 531, loss: 0.028501, val_loss: 0.030921, val_acc: 0.996444 ---\n",
      "--- epoch: 541, loss: 0.028238, val_loss: 0.030676, val_acc: 0.996444 ---\n",
      "--- epoch: 551, loss: 0.027982, val_loss: 0.030438, val_acc: 0.996444 ---\n",
      "--- epoch: 561, loss: 0.027735, val_loss: 0.030208, val_acc: 0.996444 ---\n",
      "--- epoch: 571, loss: 0.027495, val_loss: 0.029985, val_acc: 0.996444 ---\n",
      "--- epoch: 581, loss: 0.027262, val_loss: 0.029769, val_acc: 0.996444 ---\n",
      "--- epoch: 591, loss: 0.027035, val_loss: 0.029559, val_acc: 0.996444 ---\n",
      "--- epoch: 601, loss: 0.026815, val_loss: 0.029356, val_acc: 0.996444 ---\n",
      "--- epoch: 611, loss: 0.026602, val_loss: 0.029158, val_acc: 0.996444 ---\n",
      "--- epoch: 621, loss: 0.026394, val_loss: 0.028966, val_acc: 0.996444 ---\n",
      "--- epoch: 631, loss: 0.026191, val_loss: 0.028779, val_acc: 0.996444 ---\n",
      "--- epoch: 641, loss: 0.025994, val_loss: 0.028597, val_acc: 0.996444 ---\n",
      "--- epoch: 651, loss: 0.025802, val_loss: 0.028421, val_acc: 0.996444 ---\n",
      "--- epoch: 661, loss: 0.025615, val_loss: 0.028249, val_acc: 0.996444 ---\n",
      "--- epoch: 671, loss: 0.025433, val_loss: 0.028081, val_acc: 0.996444 ---\n",
      "--- epoch: 681, loss: 0.025255, val_loss: 0.027918, val_acc: 0.996444 ---\n",
      "--- epoch: 691, loss: 0.025082, val_loss: 0.027759, val_acc: 0.996444 ---\n",
      "--- epoch: 701, loss: 0.024913, val_loss: 0.027604, val_acc: 0.996444 ---\n",
      "--- epoch: 711, loss: 0.024748, val_loss: 0.027453, val_acc: 0.996444 ---\n",
      "--- epoch: 721, loss: 0.024586, val_loss: 0.027305, val_acc: 0.996444 ---\n",
      "--- epoch: 731, loss: 0.024429, val_loss: 0.027161, val_acc: 0.996444 ---\n",
      "--- epoch: 741, loss: 0.024275, val_loss: 0.027021, val_acc: 0.996444 ---\n",
      "--- epoch: 751, loss: 0.024124, val_loss: 0.026884, val_acc: 0.996444 ---\n",
      "--- epoch: 761, loss: 0.023977, val_loss: 0.026750, val_acc: 0.996444 ---\n",
      "--- epoch: 771, loss: 0.023833, val_loss: 0.026619, val_acc: 0.996444 ---\n",
      "--- epoch: 781, loss: 0.023692, val_loss: 0.026491, val_acc: 0.996444 ---\n",
      "--- epoch: 791, loss: 0.023554, val_loss: 0.026366, val_acc: 0.996444 ---\n",
      "--- epoch: 801, loss: 0.023419, val_loss: 0.026243, val_acc: 0.996444 ---\n",
      "--- epoch: 811, loss: 0.023287, val_loss: 0.026124, val_acc: 0.996444 ---\n",
      "--- epoch: 821, loss: 0.023157, val_loss: 0.026006, val_acc: 0.996444 ---\n",
      "--- epoch: 831, loss: 0.023030, val_loss: 0.025892, val_acc: 0.996444 ---\n",
      "--- epoch: 841, loss: 0.022906, val_loss: 0.025780, val_acc: 0.996444 ---\n",
      "--- epoch: 851, loss: 0.022784, val_loss: 0.025670, val_acc: 0.996444 ---\n",
      "--- epoch: 861, loss: 0.022664, val_loss: 0.025562, val_acc: 0.996444 ---\n",
      "--- epoch: 871, loss: 0.022547, val_loss: 0.025457, val_acc: 0.996444 ---\n",
      "--- epoch: 881, loss: 0.022432, val_loss: 0.025353, val_acc: 0.996444 ---\n",
      "--- epoch: 891, loss: 0.022319, val_loss: 0.025252, val_acc: 0.996444 ---\n",
      "--- epoch: 901, loss: 0.022208, val_loss: 0.025153, val_acc: 0.996444 ---\n",
      "--- epoch: 911, loss: 0.022099, val_loss: 0.025055, val_acc: 0.996444 ---\n",
      "--- epoch: 921, loss: 0.021993, val_loss: 0.024960, val_acc: 0.996444 ---\n",
      "--- epoch: 931, loss: 0.021888, val_loss: 0.024866, val_acc: 0.996444 ---\n",
      "--- epoch: 941, loss: 0.021785, val_loss: 0.024774, val_acc: 0.996444 ---\n",
      "--- epoch: 951, loss: 0.021684, val_loss: 0.024684, val_acc: 0.996444 ---\n",
      "--- epoch: 961, loss: 0.021584, val_loss: 0.024595, val_acc: 0.996444 ---\n",
      "--- epoch: 971, loss: 0.021486, val_loss: 0.024508, val_acc: 0.996444 ---\n",
      "--- epoch: 981, loss: 0.021390, val_loss: 0.024423, val_acc: 0.996444 ---\n",
      "--- epoch: 991, loss: 0.021296, val_loss: 0.024339, val_acc: 0.996444 ---\n"
     ]
    }
   ],
   "source": [
    "mini_batch = 200\n",
    "epoch = 1000\n",
    "history_loss = []\n",
    "history_val_loss = []\n",
    "history_val_acc = []\n",
    "for i in range(epoch):\n",
    "    iter_num = int(sample_num//mini_batch)\n",
    "    avg_loss = 0.\n",
    "    for j in range(iter_num):\n",
    "        _, L = sess.run([fit, loss], feed_dict={\n",
    "            x : x_train[j*mini_batch : (j+1)*mini_batch],\n",
    "            y : y_train[j*mini_batch : (j+1)*mini_batch]\n",
    "        })\n",
    "        avg_loss += L\n",
    "    avg_loss = avg_loss/float(iter_num)\n",
    "    history_loss.append(avg_loss)\n",
    "    val_loss, y_hat = sess.run([loss, y_pred], feed_dict={x : x_val, y : y_val})\n",
    "    history_val_loss.append(val_loss)\n",
    "    \n",
    "    y_hat = np.argmax(y_hat, axis=1)\n",
    "    y_true = np.argmax(y_val, axis=1)\n",
    "    res = (y_hat==y_true)\n",
    "    res = res.reshape([-1])\n",
    "    val_acc = len(np.where(res==True)[0])/len(y_hat)\n",
    "    history_val_acc.append(val_acc)\n",
    "    if i%10 == 0:\n",
    "        print('--- epoch: %d, loss: %f, val_loss: %f, val_acc: %f ---'%(i+1, avg_loss, val_loss, val_acc))"
   ]
  },
  {
   "cell_type": "code",
   "execution_count": 11,
   "metadata": {},
   "outputs": [
    {
     "name": "stdout",
     "output_type": "stream",
     "text": [
      "[array([[-2.5579586 ,  0.80352044,  2.94322705],\n",
      "       [ 1.01502991, -3.74156356,  2.75530171]], dtype=float32), array([[-1.90957618,  0.69186032,  0.12818781]], dtype=float32)]\n"
     ]
    }
   ],
   "source": [
    "print(sess.run([w,b]))\n"
   ]
  },
  {
   "cell_type": "code",
   "execution_count": 12,
   "metadata": {},
   "outputs": [
    {
     "name": "stdout",
     "output_type": "stream",
     "text": [
      "total acc: 0.996133\n"
     ]
    },
    {
     "data": {
      "image/png": "[encoded data removed]",
      "text/plain": [
       "<matplotlib.figure.Figure at 0x26e93171588>"
      ]
     },
     "metadata": {},
     "output_type": "display_data"
    }
   ],
   "source": [
    "\n",
    "# use the result of w and b# use th \n",
    "w1 = -(-4.03257)/  0.4433\n",
    "b1 = -(-1.585) / 0.4433\n",
    "\n",
    "w2 = -(-0.4412)/-3.68584\n",
    "b2 = -(1.3036)/-3.68584\n",
    "\n",
    "w3 = -(1.1094)/1.790590\n",
    "b3 = -(0.84876)/1.790590\n",
    "\n",
    "\n",
    "x1 = -1\n",
    "x2 = 0\n",
    "y1 = w1*x1 + b1\n",
    "y2 = w1*x2 + b1\n",
    "\n",
    "y3 = w2*x1 + b2\n",
    "y4 = w2*x2 + b2\n",
    "\n",
    "y5 = w3*x1 + b3\n",
    "y6 = w3*x2 + b3\n",
    "\n",
    "plt.figure(2)\n",
    "plt.title('on total')\n",
    "plt.plot(data[0:2500, 0], data[0:2500, 1], '.b')\n",
    "plt.plot(data[2500:5000, 0], data[2500:5000, 1], '>r')\n",
    "plt.plot(data[5000:7500, 0], data[5000:7500, 1], '<y')\n",
    "plt.plot([x1, x2], [y1, y2], 'g')\n",
    "plt.plot([x1, x2], [y3, y4], 'g')\n",
    "plt.plot([x1, x2], [y5, y6], 'g')\n",
    "\n",
    "y_hat = sess.run(y_pred, feed_dict={x : data, y : label})\n",
    "\n",
    "y_hat = np.argmax(y_hat, axis=1)\n",
    "y_true = np.argmax(label, axis=1)\n",
    "res = (y_hat==y_true)\n",
    "res = res.reshape([-1])\n",
    "total_acc = len(np.where(res==True)[0])/len(y_hat)\n",
    "print('total acc: %f'%total_acc)"
   ]
  },
  {
   "cell_type": "code",
   "execution_count": 13,
   "metadata": {},
   "outputs": [
    {
     "data": {
      "text/plain": [
       "<matplotlib.figure.Figure at 0x26e19bd8b00>"
      ]
     },
     "metadata": {},
     "output_type": "display_data"
    },
    {
     "data": {
      "image/png": "[encoded data removed]",
      "text/plain": [
       "<matplotlib.figure.Figure at 0x26e19bd8d30>"
      ]
     },
     "metadata": {},
     "output_type": "display_data"
    }
   ],
   "source": [
    "# epoch-loss curve# epoch- \n",
    "plt.figure(1)\n",
    "fig, ax = plt.subplots(1,1)\n",
    "ax.plot(history_loss, color='b', label=\"Training loss\")\n",
    "ax.plot(history_val_loss, color='r', label=\"validation loss\",axes =ax)\n",
    "legend = ax.legend(loc='best', shadow=True)"
   ]
  },
  {
   "cell_type": "code",
   "execution_count": null,
   "metadata": {},
   "outputs": [],
   "source": []
  }
 ],
 "metadata": {
  "kernelspec": {
   "display_name": "Python 3",
   "language": "python",
   "name": "python3"
  },
  "language_info": {
   "codemirror_mode": {
    "name": "ipython",
    "version": 3
   },
   "file_extension": ".py",
   "mimetype": "text/x-python",
   "name": "python",
   "nbconvert_exporter": "python",
   "pygments_lexer": "ipython3",
   "version": "3.5.3"
  }
 },
 "nbformat": 4,
 "nbformat_minor": 2
}
