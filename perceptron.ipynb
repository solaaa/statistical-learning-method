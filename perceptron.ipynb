{
 "cells": [
  {
   "cell_type": "code",
   "execution_count": 1,
   "metadata": {},
   "outputs": [],
   "source": [
    "import numpy as np\n",
    "import matplotlib.pyplot as plt\n",
    "%matplotlib inline\n",
    "import scipy.io as sio\n",
    "from sklearn.model_selection import train_test_split"
   ]
  },
  {
   "cell_type": "code",
   "execution_count": 2,
   "metadata": {},
   "outputs": [
    {
     "name": "stdout",
     "output_type": "stream",
     "text": [
      "(4000, 2)\n",
      "(1000, 2)\n",
      "(4000, 3)\n",
      "(1000, 3)\n"
     ]
    }
   ],
   "source": [
    "X = np.load('.//data//dataset.npy')\n",
    "Y = np.load('.//data//datalabel.npy')\n",
    "# binary classification only use the 1st 2 classes.\n",
    "X = X[:5000]\n",
    "Y = Y[:5000]\n",
    "X_train, X_val, Y_train, Y_val = train_test_split(X, Y,\n",
    "                                                  test_size = 0.2, random_state=1)\n",
    "print(X_train.shape)\n",
    "print(X_val.shape)\n",
    "print(Y_train.shape)\n",
    "print(Y_val.shape)"
   ]
  },
  {
   "cell_type": "code",
   "execution_count": 4,
   "metadata": {},
   "outputs": [],
   "source": [
    "def sign(a):\n",
    "    y_hat = [0]*len(a)\n",
    "    for i in range(len(a)):\n",
    "        if a[i]<=0:\n",
    "            y_hat[i] = -1\n",
    "        else:\n",
    "            y_hat[i] = 1\n",
    "    return y_hat"
   ]
  },
  {
   "cell_type": "code",
   "execution_count": 13,
   "metadata": {},
   "outputs": [],
   "source": [
    "def loss_f(x,y,w,b):\n",
    "    a = np.dot(x,w) + b\n",
    "    y_label = np.array([0]*len(x))\n",
    "    summ = 0\n",
    "    for i in range(len(x)):\n",
    "        if y[i][0] == 1:\n",
    "            y_label[i] = 1\n",
    "        else:\n",
    "            y_label[i] = -1\n",
    "        if y_label[i] == 1 and a[i] < 0 or y_label[i] == -1 and a[i] >= 0:\n",
    "            summ += -1 * y_label[i] * a[i]\n",
    "    cost = summ / len(x)\n",
    "    return cost"
   ]
  },
  {
   "cell_type": "code",
   "execution_count": 8,
   "metadata": {},
   "outputs": [],
   "source": [
    "def pridict(x,w,b):\n",
    "    a = np.dot(x,w) + b\n",
    "    return sign(a)"
   ]
  },
  {
   "cell_type": "code",
   "execution_count": 9,
   "metadata": {},
   "outputs": [],
   "source": [
    "def accuracy(y, y_hat):\n",
    "    cnt = 0\n",
    "    for i in range(len(y)):\n",
    "        if y[i][0] == 1 and y_hat[i] == 1 or y[i][1] == 1 and y_hat[i] == -1:\n",
    "            cnt += 1\n",
    "    return cnt/len(y)"
   ]
  },
  {
   "cell_type": "code",
   "execution_count": 30,
   "metadata": {
    "scrolled": false
   },
   "outputs": [
    {
     "name": "stdout",
     "output_type": "stream",
     "text": [
      "=======================\n",
      "1\n",
      "training_acc: 0.864000, training_loss: 0.047468, val_acc: 0.854000, val_loss: 0.049165\n",
      "=======================\n",
      "11\n",
      "training_acc: 0.910750, training_loss: 0.025417, val_acc: 0.903000, val_loss: 0.026633\n",
      "=======================\n",
      "21\n",
      "training_acc: 0.937000, training_loss: 0.015513, val_acc: 0.933000, val_loss: 0.016539\n",
      "=======================\n",
      "31\n",
      "training_acc: 0.953750, training_loss: 0.010555, val_acc: 0.947000, val_loss: 0.011465\n",
      "=======================\n",
      "41\n",
      "training_acc: 0.964500, training_loss: 0.007566, val_acc: 0.959000, val_loss: 0.008495\n",
      "=======================\n",
      "51\n",
      "training_acc: 0.972250, training_loss: 0.005691, val_acc: 0.963000, val_loss: 0.006358\n",
      "=======================\n",
      "61\n",
      "training_acc: 0.976500, training_loss: 0.004482, val_acc: 0.970000, val_loss: 0.004894\n",
      "=======================\n",
      "71\n",
      "training_acc: 0.979500, training_loss: 0.003641, val_acc: 0.974000, val_loss: 0.003942\n",
      "=======================\n",
      "81\n",
      "training_acc: 0.982750, training_loss: 0.003001, val_acc: 0.979000, val_loss: 0.003200\n",
      "=======================\n",
      "91\n",
      "training_acc: 0.985250, training_loss: 0.002554, val_acc: 0.979000, val_loss: 0.002650\n",
      "=======================\n",
      "101\n",
      "training_acc: 0.987000, training_loss: 0.002187, val_acc: 0.983000, val_loss: 0.002193\n",
      "=======================\n",
      "111\n",
      "training_acc: 0.988250, training_loss: 0.001888, val_acc: 0.984000, val_loss: 0.001819\n",
      "=======================\n",
      "121\n",
      "training_acc: 0.989500, training_loss: 0.001646, val_acc: 0.987000, val_loss: 0.001525\n",
      "=======================\n",
      "131\n",
      "training_acc: 0.989750, training_loss: 0.001441, val_acc: 0.988000, val_loss: 0.001277\n",
      "=======================\n",
      "141\n",
      "training_acc: 0.990750, training_loss: 0.001283, val_acc: 0.988000, val_loss: 0.001090\n",
      "=======================\n",
      "151\n",
      "training_acc: 0.991750, training_loss: 0.001149, val_acc: 0.988000, val_loss: 0.000918\n",
      "=======================\n",
      "161\n",
      "training_acc: 0.992500, training_loss: 0.001037, val_acc: 0.990000, val_loss: 0.000757\n",
      "=======================\n",
      "171\n",
      "training_acc: 0.993000, training_loss: 0.000940, val_acc: 0.990000, val_loss: 0.000617\n",
      "=======================\n",
      "181\n",
      "training_acc: 0.993500, training_loss: 0.000851, val_acc: 0.992000, val_loss: 0.000490\n",
      "=======================\n",
      "191\n",
      "training_acc: 0.993500, training_loss: 0.000764, val_acc: 0.994000, val_loss: 0.000383\n",
      "=======================\n",
      "201\n",
      "training_acc: 0.993500, training_loss: 0.000680, val_acc: 0.995000, val_loss: 0.000315\n",
      "=======================\n",
      "211\n",
      "training_acc: 0.993750, training_loss: 0.000666, val_acc: 0.995000, val_loss: 0.000303\n",
      "=======================\n",
      "221\n",
      "training_acc: 0.993750, training_loss: 0.000652, val_acc: 0.995000, val_loss: 0.000291\n",
      "=======================\n",
      "231\n",
      "training_acc: 0.993750, training_loss: 0.000638, val_acc: 0.995000, val_loss: 0.000280\n",
      "=======================\n",
      "241\n",
      "training_acc: 0.993750, training_loss: 0.000624, val_acc: 0.995000, val_loss: 0.000268\n",
      "=======================\n",
      "251\n",
      "training_acc: 0.994000, training_loss: 0.000610, val_acc: 0.995000, val_loss: 0.000256\n",
      "=======================\n",
      "261\n",
      "training_acc: 0.994000, training_loss: 0.000596, val_acc: 0.995000, val_loss: 0.000244\n",
      "=======================\n",
      "271\n",
      "training_acc: 0.994250, training_loss: 0.000582, val_acc: 0.995000, val_loss: 0.000232\n",
      "=======================\n",
      "281\n",
      "training_acc: 0.994500, training_loss: 0.000568, val_acc: 0.995000, val_loss: 0.000221\n",
      "=======================\n",
      "291\n",
      "training_acc: 0.994500, training_loss: 0.000556, val_acc: 0.995000, val_loss: 0.000209\n",
      "=======================\n",
      "301\n",
      "training_acc: 0.994500, training_loss: 0.000545, val_acc: 0.995000, val_loss: 0.000198\n",
      "=======================\n",
      "311\n",
      "training_acc: 0.994750, training_loss: 0.000534, val_acc: 0.995000, val_loss: 0.000187\n",
      "=======================\n",
      "321\n",
      "training_acc: 0.994750, training_loss: 0.000523, val_acc: 0.995000, val_loss: 0.000176\n",
      "=======================\n",
      "331\n",
      "training_acc: 0.994750, training_loss: 0.000512, val_acc: 0.996000, val_loss: 0.000165\n",
      "=======================\n",
      "341\n",
      "training_acc: 0.994750, training_loss: 0.000501, val_acc: 0.996000, val_loss: 0.000156\n",
      "=======================\n",
      "351\n",
      "training_acc: 0.994750, training_loss: 0.000492, val_acc: 0.996000, val_loss: 0.000148\n",
      "=======================\n",
      "361\n",
      "training_acc: 0.994750, training_loss: 0.000484, val_acc: 0.996000, val_loss: 0.000140\n",
      "=======================\n",
      "371\n",
      "training_acc: 0.995000, training_loss: 0.000477, val_acc: 0.996000, val_loss: 0.000134\n",
      "=======================\n",
      "381\n",
      "training_acc: 0.995000, training_loss: 0.000470, val_acc: 0.996000, val_loss: 0.000127\n",
      "=======================\n",
      "391\n",
      "training_acc: 0.995250, training_loss: 0.000464, val_acc: 0.997000, val_loss: 0.000122\n",
      "=======================\n",
      "401\n",
      "training_acc: 0.995500, training_loss: 0.000459, val_acc: 0.997000, val_loss: 0.000118\n",
      "=======================\n",
      "411\n",
      "training_acc: 0.996000, training_loss: 0.000454, val_acc: 0.997000, val_loss: 0.000114\n",
      "=======================\n",
      "421\n",
      "training_acc: 0.996000, training_loss: 0.000450, val_acc: 0.997000, val_loss: 0.000110\n",
      "=======================\n",
      "431\n",
      "training_acc: 0.996000, training_loss: 0.000446, val_acc: 0.997000, val_loss: 0.000106\n",
      "=======================\n",
      "441\n",
      "training_acc: 0.996000, training_loss: 0.000442, val_acc: 0.998000, val_loss: 0.000103\n",
      "=======================\n",
      "451\n",
      "training_acc: 0.996000, training_loss: 0.000438, val_acc: 0.998000, val_loss: 0.000100\n",
      "=======================\n",
      "461\n",
      "training_acc: 0.996000, training_loss: 0.000434, val_acc: 0.998000, val_loss: 0.000097\n",
      "=======================\n",
      "471\n",
      "training_acc: 0.996000, training_loss: 0.000431, val_acc: 0.998000, val_loss: 0.000095\n",
      "=======================\n",
      "481\n",
      "training_acc: 0.996000, training_loss: 0.000427, val_acc: 0.998000, val_loss: 0.000093\n",
      "=======================\n",
      "491\n",
      "training_acc: 0.996000, training_loss: 0.000423, val_acc: 0.998000, val_loss: 0.000090\n"
     ]
    },
    {
     "data": {
      "text/plain": [
       "[<matplotlib.lines.Line2D at 0x14493568a90>]"
      ]
     },
     "execution_count": 30,
     "metadata": {},
     "output_type": "execute_result"
    },
    {
     "data": {
      "image/png": "[encoded data removed]",
      "text/plain": [
       "<matplotlib.figure.Figure at 0x144935554e0>"
      ]
     },
     "metadata": {},
     "output_type": "display_data"
    },
    {
     "data": {
      "image/png": "[encoded data removed]",
      "text/plain": [
       "<matplotlib.figure.Figure at 0x1449356ef98>"
      ]
     },
     "metadata": {},
     "output_type": "display_data"
    }
   ],
   "source": [
    "# init w,b\n",
    "w = np.random.rand(2,1)\n",
    "b = np.random.rand(1)\n",
    "\n",
    "# start\n",
    "epoch = 500\n",
    "iternum = epoch\n",
    "eta = 0.1\n",
    "loss = {'training_loss':[], 'val_loss':[]}\n",
    "acc = {'training_acc':[], 'val_acc':[]}\n",
    "flag = 0\n",
    "while epoch > 0:\n",
    "    a = np.dot(X_train, w)\n",
    "    d_w = np.zeros([2,1])\n",
    "    d_b = 0\n",
    "    if epoch < 300 and flag == 0:\n",
    "        eta = 0.02\n",
    "        flag = 1\n",
    "    \n",
    "    for i in range(len(X_train)):\n",
    "        if a[i] > 0 and Y_train[i][0] == 1 or a[i] < 0 and Y_train[i][1] == 1:\n",
    "            continue\n",
    "        else:\n",
    "            yi = 0\n",
    "            if Y_train[i][0] == 1:\n",
    "                yi = 1\n",
    "            else:\n",
    "                yi = -1\n",
    "            d_w += yi*(X_train[i].reshape((2,1)))\n",
    "            d_b += yi\n",
    "            \n",
    "    d_w = d_w/len(X_train)\n",
    "    d_b = d_b/len(X_train)\n",
    "    w = w + eta*d_w\n",
    "    b = b + eta*d_b\n",
    "    \n",
    "    # restore history\n",
    "    loss['training_loss'].append(loss_f(X_train, Y_train, w, b))\n",
    "    loss['val_loss'].append(loss_f(X_val, Y_val, w, b))\n",
    "    Y_train_hat = pridict(X_train, w, b)\n",
    "    Y_val_hat = pridict(X_val, w, b)\n",
    "    acc['training_acc'].append(accuracy(Y_train, Y_train_hat))\n",
    "    acc['val_acc'].append(accuracy(Y_val, Y_val_hat))\n",
    "    \n",
    "    if epoch%10 == 0:\n",
    "        print('=======================')\n",
    "        print(iternum-epoch+1)\n",
    "        print('training_acc: %f, training_loss: %f, val_acc: %f, val_loss: %f'\n",
    "              %(acc['training_acc'][iternum-epoch], loss['training_loss'][iternum-epoch], \n",
    "                acc['val_acc'][iternum-epoch], loss['val_loss'][iternum-epoch]))\n",
    "    epoch -= 1\n",
    "    \n",
    "# Plot \n",
    "plt.figure(1)\n",
    "plt.plot(loss['training_loss'])\n",
    "plt.plot(loss['val_loss'])\n",
    "\n",
    "plt.figure(2)\n",
    "plt.plot(acc['training_acc'])\n",
    "plt.plot(acc['val_acc'])"
   ]
  },
  {
   "cell_type": "code",
   "execution_count": 39,
   "metadata": {},
   "outputs": [
    {
     "data": {
      "text/plain": [
       "[<matplotlib.lines.Line2D at 0x144949f1f28>]"
      ]
     },
     "execution_count": 39,
     "metadata": {},
     "output_type": "execute_result"
    },
    {
     "data": {
      "image/png": "[encoded data removed]",
      "text/plain": [
       "<matplotlib.figure.Figure at 0x144949de198>"
      ]
     },
     "metadata": {},
     "output_type": "display_data"
    }
   ],
   "source": [
    "x1 = [-4, 4]\n",
    "x2 = [0,0]\n",
    "x2[0] = (w[0][0]*x1[0] + b)/(-w[1][0])\n",
    "x2[1] = (w[0][0]*x1[1] + b)/(-w[1][0])\n",
    "plt.figure(1)\n",
    "plt.plot(X[:2500, 0], X[:2500, 1], 'r.')\n",
    "plt.plot(X[2500:5000, 0], X[2500:5000, 1], 'b.')\n",
    "plt.plot(x1, x2, 'g')"
   ]
  },
  {
   "cell_type": "code",
   "execution_count": null,
   "metadata": {},
   "outputs": [],
   "source": []
  }
 ],
 "metadata": {
  "kernelspec": {
   "display_name": "Python 3",
   "language": "python",
   "name": "python3"
  },
  "language_info": {
   "codemirror_mode": {
    "name": "ipython",
    "version": 3
   },
   "file_extension": ".py",
   "mimetype": "text/x-python",
   "name": "python",
   "nbconvert_exporter": "python",
   "pygments_lexer": "ipython3",
   "version": "3.5.3"
  }
 },
 "nbformat": 4,
 "nbformat_minor": 2
}
